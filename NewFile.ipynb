{
 "cells": [
  {
   "cell_type": "code",
   "execution_count": 1,
   "metadata": {},
   "outputs": [
    {
     "name": "stdout",
     "output_type": "stream",
     "text": [
      "1\n",
      "I AM THE NEW FILE!!\n",
      "2\n",
      "I AM THE NEW FILE!!\n",
      "3\n",
      "I AM THE NEW FILE!!\n",
      "4\n",
      "I AM THE NEW FILE!!\n",
      "5\n",
      "I AM THE NEW FILE!!\n"
     ]
    }
   ],
   "source": [
    "myList = [1,2,3,4,5]\n",
    "for item in myList:\n",
    "    print (item)\n",
    "    print(\"I AM THE NEW FILE!!\")"
   ]
  },
  {
   "cell_type": "code",
   "execution_count": null,
   "metadata": {},
   "outputs": [],
   "source": []
  }
 ],
 "metadata": {
  "kernelspec": {
   "display_name": "Python 3",
   "language": "python",
   "name": "python3"
  },
  "language_info": {
   "codemirror_mode": {
    "name": "ipython",
    "version": 3
   },
   "file_extension": ".py",
   "mimetype": "text/x-python",
   "name": "python",
   "nbconvert_exporter": "python",
   "pygments_lexer": "ipython3",
   "version": "3.7.3"
  }
 },
 "nbformat": 4,
 "nbformat_minor": 2
}
