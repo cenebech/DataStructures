{
 "cells": [
  {
   "cell_type": "code",
   "execution_count": 1,
   "metadata": {},
   "outputs": [
    {
     "name": "stdout",
     "output_type": "stream",
     "text": [
      "(1, 2)\n",
      "(3, 4)\n",
      "(5, 6)\n"
     ]
    }
   ],
   "source": [
    "myTuple = (1,2)\n",
    "\n",
    "#tuples can also be inside list\n",
    "myTupleList = [(1,2),(3,4),(5,6)]\n",
    "for item in myTupleList:\n",
    "    print(item)"
   ]
  },
  {
   "cell_type": "code",
   "execution_count": 2,
   "metadata": {},
   "outputs": [
    {
     "name": "stdout",
     "output_type": "stream",
     "text": [
      "1\n",
      "3\n",
      "5\n"
     ]
    }
   ],
   "source": [
    "for(a,b)in myTupleList:\n",
    "    print(a)"
   ]
  },
  {
   "cell_type": "code",
   "execution_count": 7,
   "metadata": {},
   "outputs": [
    {
     "name": "stdout",
     "output_type": "stream",
     "text": [
      "0 (1, 2)\n",
      "1 (3, 4)\n",
      "2 (5, 6)\n"
     ]
    }
   ],
   "source": [
    "for index,value in enumerate (myTupleList):\n",
    "    print(index,value)"
   ]
  },
  {
   "cell_type": "code",
   "execution_count": 9,
   "metadata": {},
   "outputs": [
    {
     "name": "stdout",
     "output_type": "stream",
     "text": [
      "Emma a 1\n",
      "Nyla b 2\n",
      "Danny c 3\n",
      "Genesis d 4\n",
      "Alexis e 5\n"
     ]
    }
   ],
   "source": [
    "myTlist1 = ['Emma','Nyla','Danny','Genesis','Alexis']\n",
    "myTlist2 = ['a','b','c','d','e','f','g','h']\n",
    "myTlist3 = [1,2,3,4,5,6,7,8]\n",
    "\n",
    "for name,letter,number in zip(myTlist1,myTlist2,myTlist3):\n",
    "    print(name, letter,number)"
   ]
  },
  {
   "cell_type": "code",
   "execution_count": 10,
   "metadata": {},
   "outputs": [
    {
     "data": {
      "text/plain": [
       "[('Emma', 'a'),\n",
       " ('Nyla', 'b'),\n",
       " ('Danny', 'c'),\n",
       " ('Genesis', 'd'),\n",
       " ('Alexis', 'e')]"
      ]
     },
     "execution_count": 10,
     "metadata": {},
     "output_type": "execute_result"
    }
   ],
   "source": [
    "list(zip(myTlist1,myTlist2))"
   ]
  },
  {
   "cell_type": "code",
   "execution_count": null,
   "metadata": {},
   "outputs": [],
   "source": []
  }
 ],
 "metadata": {
  "kernelspec": {
   "display_name": "Python 3",
   "language": "python",
   "name": "python3"
  },
  "language_info": {
   "codemirror_mode": {
    "name": "ipython",
    "version": 3
   },
   "file_extension": ".py",
   "mimetype": "text/x-python",
   "name": "python",
   "nbconvert_exporter": "python",
   "pygments_lexer": "ipython3",
   "version": "3.7.3"
  }
 },
 "nbformat": 4,
 "nbformat_minor": 2
}
